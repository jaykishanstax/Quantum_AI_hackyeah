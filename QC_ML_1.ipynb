{
 "cells": [
  {
   "cell_type": "code",
   "execution_count": 2,
   "id": "91e7220d-14b4-4a2d-86a4-b29804e12c0b",
   "metadata": {},
   "outputs": [
    {
     "name": "stdout",
     "output_type": "stream",
     "text": [
      "Requirement already satisfied: qiskit==1.0.2 in /opt/homebrew/Cellar/jupyterlab/4.2.5_1/libexec/lib/python3.12/site-packages (from qiskit[visualization]==1.0.2) (1.0.2)\n",
      "Requirement already satisfied: rustworkx>=0.14.0 in /opt/homebrew/Cellar/jupyterlab/4.2.5_1/libexec/lib/python3.12/site-packages (from qiskit==1.0.2->qiskit[visualization]==1.0.2) (0.15.1)\n",
      "Requirement already satisfied: numpy<2,>=1.17 in /opt/homebrew/Cellar/jupyterlab/4.2.5_1/libexec/lib/python3.12/site-packages (from qiskit==1.0.2->qiskit[visualization]==1.0.2) (1.26.4)\n",
      "Requirement already satisfied: scipy>=1.5 in /opt/homebrew/Cellar/jupyterlab/4.2.5_1/libexec/lib/python3.12/site-packages (from qiskit==1.0.2->qiskit[visualization]==1.0.2) (1.14.1)\n",
      "Requirement already satisfied: sympy>=1.3 in /opt/homebrew/Cellar/jupyterlab/4.2.5_1/libexec/lib/python3.12/site-packages (from qiskit==1.0.2->qiskit[visualization]==1.0.2) (1.13.3)\n",
      "Requirement already satisfied: dill>=0.3 in /opt/homebrew/Cellar/jupyterlab/4.2.5_1/libexec/lib/python3.12/site-packages (from qiskit==1.0.2->qiskit[visualization]==1.0.2) (0.3.8)\n",
      "Requirement already satisfied: python-dateutil>=2.8.0 in /opt/homebrew/Cellar/jupyterlab/4.2.5_1/libexec/lib/python3.12/site-packages (from qiskit==1.0.2->qiskit[visualization]==1.0.2) (2.9.0.post0)\n",
      "Requirement already satisfied: stevedore>=3.0.0 in /opt/homebrew/Cellar/jupyterlab/4.2.5_1/libexec/lib/python3.12/site-packages (from qiskit==1.0.2->qiskit[visualization]==1.0.2) (5.3.0)\n",
      "Requirement already satisfied: typing-extensions in /opt/homebrew/Cellar/jupyterlab/4.2.5_1/libexec/lib/python3.12/site-packages (from qiskit==1.0.2->qiskit[visualization]==1.0.2) (4.12.2)\n",
      "Requirement already satisfied: symengine>=0.11 in /opt/homebrew/Cellar/jupyterlab/4.2.5_1/libexec/lib/python3.12/site-packages (from qiskit==1.0.2->qiskit[visualization]==1.0.2) (0.11.0)\n",
      "Requirement already satisfied: matplotlib>=3.3 in /opt/homebrew/Cellar/jupyterlab/4.2.5_1/libexec/lib/python3.12/site-packages (from qiskit[visualization]==1.0.2) (3.9.2)\n",
      "Requirement already satisfied: pydot in /opt/homebrew/Cellar/jupyterlab/4.2.5_1/libexec/lib/python3.12/site-packages (from qiskit[visualization]==1.0.2) (3.0.2)\n",
      "Requirement already satisfied: Pillow>=4.2.1 in /opt/homebrew/Cellar/jupyterlab/4.2.5_1/libexec/lib/python3.12/site-packages (from qiskit[visualization]==1.0.2) (10.4.0)\n",
      "Requirement already satisfied: pylatexenc>=1.4 in /opt/homebrew/Cellar/jupyterlab/4.2.5_1/libexec/lib/python3.12/site-packages (from qiskit[visualization]==1.0.2) (2.10)\n",
      "Requirement already satisfied: seaborn>=0.9.0 in /opt/homebrew/Cellar/jupyterlab/4.2.5_1/libexec/lib/python3.12/site-packages (from qiskit[visualization]==1.0.2) (0.13.2)\n",
      "Requirement already satisfied: contourpy>=1.0.1 in /opt/homebrew/Cellar/jupyterlab/4.2.5_1/libexec/lib/python3.12/site-packages (from matplotlib>=3.3->qiskit[visualization]==1.0.2) (1.3.0)\n",
      "Requirement already satisfied: cycler>=0.10 in /opt/homebrew/Cellar/jupyterlab/4.2.5_1/libexec/lib/python3.12/site-packages (from matplotlib>=3.3->qiskit[visualization]==1.0.2) (0.12.1)\n",
      "Requirement already satisfied: fonttools>=4.22.0 in /opt/homebrew/Cellar/jupyterlab/4.2.5_1/libexec/lib/python3.12/site-packages (from matplotlib>=3.3->qiskit[visualization]==1.0.2) (4.54.1)\n",
      "Requirement already satisfied: kiwisolver>=1.3.1 in /opt/homebrew/Cellar/jupyterlab/4.2.5_1/libexec/lib/python3.12/site-packages (from matplotlib>=3.3->qiskit[visualization]==1.0.2) (1.4.7)\n",
      "Requirement already satisfied: packaging>=20.0 in /opt/homebrew/Cellar/jupyterlab/4.2.5_1/libexec/lib/python3.12/site-packages (from matplotlib>=3.3->qiskit[visualization]==1.0.2) (24.1)\n",
      "Requirement already satisfied: pyparsing>=2.3.1 in /opt/homebrew/Cellar/jupyterlab/4.2.5_1/libexec/lib/python3.12/site-packages (from matplotlib>=3.3->qiskit[visualization]==1.0.2) (3.1.4)\n",
      "Requirement already satisfied: six>=1.5 in /opt/homebrew/Cellar/jupyterlab/4.2.5_1/libexec/lib/python3.12/site-packages (from python-dateutil>=2.8.0->qiskit==1.0.2->qiskit[visualization]==1.0.2) (1.16.0)\n",
      "Requirement already satisfied: pandas>=1.2 in /opt/homebrew/Cellar/jupyterlab/4.2.5_1/libexec/lib/python3.12/site-packages (from seaborn>=0.9.0->qiskit[visualization]==1.0.2) (2.2.3)\n",
      "Requirement already satisfied: pbr>=2.0.0 in /opt/homebrew/Cellar/jupyterlab/4.2.5_1/libexec/lib/python3.12/site-packages (from stevedore>=3.0.0->qiskit==1.0.2->qiskit[visualization]==1.0.2) (6.1.0)\n",
      "Requirement already satisfied: mpmath<1.4,>=1.1.0 in /opt/homebrew/Cellar/jupyterlab/4.2.5_1/libexec/lib/python3.12/site-packages (from sympy>=1.3->qiskit==1.0.2->qiskit[visualization]==1.0.2) (1.3.0)\n",
      "Requirement already satisfied: pytz>=2020.1 in /opt/homebrew/Cellar/jupyterlab/4.2.5_1/libexec/lib/python3.12/site-packages (from pandas>=1.2->seaborn>=0.9.0->qiskit[visualization]==1.0.2) (2024.2)\n",
      "Requirement already satisfied: tzdata>=2022.7 in /opt/homebrew/Cellar/jupyterlab/4.2.5_1/libexec/lib/python3.12/site-packages (from pandas>=1.2->seaborn>=0.9.0->qiskit[visualization]==1.0.2) (2024.2)\n",
      "Note: you may need to restart the kernel to use updated packages.\n"
     ]
    }
   ],
   "source": [
    "pip install 'qiskit[visualization]'==1.0.2"
   ]
  },
  {
   "cell_type": "code",
   "execution_count": 3,
   "id": "859cfdb8-8b57-4a58-9a8e-cf311a83251d",
   "metadata": {},
   "outputs": [
    {
     "data": {
      "image/png": "[encoded data removed]",
      "text/plain": [
       "<Figure size 185.453x117.056 with 1 Axes>"
      ]
     },
     "execution_count": 3,
     "metadata": {},
     "output_type": "execute_result"
    }
   ],
   "source": [
    "from qiskit import QuantumCircuit\n",
    "\n",
    "# Create a new circuit with a single qubit\n",
    "qc = QuantumCircuit(1)\n",
    "\n",
    "# Add a Not gate to qubit 0\n",
    "qc.x(0)\n",
    "\n",
    "# Return a drawing of the circuit using MatPlotLib (\"mpl\"). This is the\n",
    "# last line of the cell, so the drawing appears in the cell output.\n",
    "qc.draw(\"mpl\")"
   ]
  },
  {
   "cell_type": "code",
   "execution_count": 2,
   "id": "6d0596d8-886a-475c-a729-d905e065060c",
   "metadata": {},
   "outputs": [
    {
     "name": "stdout",
     "output_type": "stream",
     "text": [
      "Collecting qiskit_aer\n",
      "  Downloading qiskit_aer-0.15.1-cp312-cp312-macosx_11_0_arm64.whl.metadata (8.0 kB)\n",
      "Collecting qiskit>=1.1.0 (from qiskit_aer)\n",
      "  Using cached qiskit-1.2.2-cp38-abi3-macosx_11_0_arm64.whl.metadata (12 kB)\n",
      "Requirement already satisfied: numpy>=1.16.3 in /opt/homebrew/Cellar/jupyterlab/4.2.5_1/libexec/lib/python3.12/site-packages (from qiskit_aer) (1.26.4)\n",
      "Requirement already satisfied: scipy>=1.0 in /opt/homebrew/Cellar/jupyterlab/4.2.5_1/libexec/lib/python3.12/site-packages (from qiskit_aer) (1.14.1)\n",
      "Requirement already satisfied: psutil>=5 in /opt/homebrew/Cellar/jupyterlab/4.2.5_1/libexec/lib/python3.12/site-packages (from qiskit_aer) (6.0.0)\n",
      "Requirement already satisfied: rustworkx>=0.15.0 in /opt/homebrew/Cellar/jupyterlab/4.2.5_1/libexec/lib/python3.12/site-packages (from qiskit>=1.1.0->qiskit_aer) (0.15.1)\n",
      "Requirement already satisfied: sympy>=1.3 in /opt/homebrew/Cellar/jupyterlab/4.2.5_1/libexec/lib/python3.12/site-packages (from qiskit>=1.1.0->qiskit_aer) (1.13.3)\n",
      "Requirement already satisfied: dill>=0.3 in /opt/homebrew/Cellar/jupyterlab/4.2.5_1/libexec/lib/python3.12/site-packages (from qiskit>=1.1.0->qiskit_aer) (0.3.8)\n",
      "Requirement already satisfied: python-dateutil>=2.8.0 in /opt/homebrew/Cellar/jupyterlab/4.2.5_1/libexec/lib/python3.12/site-packages (from qiskit>=1.1.0->qiskit_aer) (2.9.0.post0)\n",
      "Requirement already satisfied: stevedore>=3.0.0 in /opt/homebrew/Cellar/jupyterlab/4.2.5_1/libexec/lib/python3.12/site-packages (from qiskit>=1.1.0->qiskit_aer) (5.3.0)\n",
      "Requirement already satisfied: typing-extensions in /opt/homebrew/Cellar/jupyterlab/4.2.5_1/libexec/lib/python3.12/site-packages (from qiskit>=1.1.0->qiskit_aer) (4.12.2)\n",
      "Requirement already satisfied: symengine>=0.11 in /opt/homebrew/Cellar/jupyterlab/4.2.5_1/libexec/lib/python3.12/site-packages (from qiskit>=1.1.0->qiskit_aer) (0.11.0)\n",
      "Requirement already satisfied: six>=1.5 in /opt/homebrew/Cellar/jupyterlab/4.2.5_1/libexec/lib/python3.12/site-packages (from python-dateutil>=2.8.0->qiskit>=1.1.0->qiskit_aer) (1.16.0)\n",
      "Requirement already satisfied: pbr>=2.0.0 in /opt/homebrew/Cellar/jupyterlab/4.2.5_1/libexec/lib/python3.12/site-packages (from stevedore>=3.0.0->qiskit>=1.1.0->qiskit_aer) (6.1.0)\n",
      "Requirement already satisfied: mpmath<1.4,>=1.1.0 in /opt/homebrew/Cellar/jupyterlab/4.2.5_1/libexec/lib/python3.12/site-packages (from sympy>=1.3->qiskit>=1.1.0->qiskit_aer) (1.3.0)\n",
      "Downloading qiskit_aer-0.15.1-cp312-cp312-macosx_11_0_arm64.whl (2.2 MB)\n",
      "\u001b[2K   \u001b[90m━━━━━━━━━━━━━━━━━━━━━━━━━━━━━━━━━━━━━━━━\u001b[0m \u001b[32m2.2/2.2 MB\u001b[0m \u001b[31m405.9 kB/s\u001b[0m eta \u001b[36m0:00:00\u001b[0ma \u001b[36m0:00:01\u001b[0m\n",
      "\u001b[?25hUsing cached qiskit-1.2.2-cp38-abi3-macosx_11_0_arm64.whl (4.5 MB)\n",
      "Installing collected packages: qiskit, qiskit_aer\n",
      "  Attempting uninstall: qiskit\n",
      "    Found existing installation: qiskit 1.0.2\n",
      "    Uninstalling qiskit-1.0.2:\n",
      "      Successfully uninstalled qiskit-1.0.2\n",
      "Successfully installed qiskit-1.2.2 qiskit_aer-0.15.1\n",
      "Note: you may need to restart the kernel to use updated packages.\n"
     ]
    }
   ],
   "source": [
    "pip install qiskit_aer"
   ]
  },
  {
   "cell_type": "code",
   "execution_count": 7,
   "id": "b8238930-8e20-4273-95f0-5cd4a64ff5fb",
   "metadata": {},
   "outputs": [
    {
     "data": {
      "text/plain": [
       "'1.0.2'"
      ]
     },
     "execution_count": 7,
     "metadata": {},
     "output_type": "execute_result"
    }
   ],
   "source": [
    "### CHECK QISKIT VERSION\n",
    "import qiskit\n",
    "qiskit.__version__"
   ]
  },
  {
   "cell_type": "code",
   "execution_count": 8,
   "id": "63df6319-e488-4040-b6bb-6d84020d8ba5",
   "metadata": {},
   "outputs": [
    {
     "name": "stdout",
     "output_type": "stream",
     "text": [
      "\u001b[33mWARNING: Package(s) not found: qc_grader\u001b[0m\u001b[33m\n",
      "\u001b[0mName: pylatexenc\n",
      "Version: 2.10\n",
      "Summary: Simple LaTeX parser providing latex-to-unicode and unicode-to-latex conversion\n",
      "Home-page: https://github.com/phfaist/pylatexenc\n",
      "Author: Philippe Faist\n",
      "Author-email: philippe.faist@bluewin.ch\n",
      "License: MIT\n",
      "Location: /opt/homebrew/Cellar/jupyterlab/4.2.5_1/libexec/lib/python3.12/site-packages\n",
      "Requires: \n",
      "Required-by: \n",
      "---\n",
      "Name: matplotlib\n",
      "Version: 3.9.2\n",
      "Summary: Python plotting package\n",
      "Home-page: https://matplotlib.org\n",
      "Author: John D. Hunter, Michael Droettboom\n",
      "Author-email: Unknown <matplotlib-users@python.org>\n",
      "License: License agreement for matplotlib versions 1.3.0 and later\n",
      "=========================================================\n",
      "\n",
      "1. This LICENSE AGREEMENT is between the Matplotlib Development Team\n",
      "(\"MDT\"), and the Individual or Organization (\"Licensee\") accessing and\n",
      "otherwise using matplotlib software in source or binary form and its\n",
      "associated documentation.\n",
      "\n",
      "2. Subject to the terms and conditions of this License Agreement, MDT\n",
      "hereby grants Licensee a nonexclusive, royalty-free, world-wide license\n",
      "to reproduce, analyze, test, perform and/or display publicly, prepare\n",
      "derivative works, distribute, and otherwise use matplotlib\n",
      "alone or in any derivative version, provided, however, that MDT's\n",
      "License Agreement and MDT's notice of copyright, i.e., \"Copyright (c)\n",
      "2012- Matplotlib Development Team; All Rights Reserved\" are retained in\n",
      "matplotlib  alone or in any derivative version prepared by\n",
      "Licensee.\n",
      "\n",
      "3. In the event Licensee prepares a derivative work that is based on or\n",
      "incorporates matplotlib or any part thereof, and wants to\n",
      "make the derivative work available to others as provided herein, then\n",
      "Licensee hereby agrees to include in any such work a brief summary of\n",
      "the changes made to matplotlib .\n",
      "\n",
      "4. MDT is making matplotlib available to Licensee on an \"AS\n",
      "IS\" basis.  MDT MAKES NO REPRESENTATIONS OR WARRANTIES, EXPRESS OR\n",
      "IMPLIED.  BY WAY OF EXAMPLE, BUT NOT LIMITATION, MDT MAKES NO AND\n",
      "DISCLAIMS ANY REPRESENTATION OR WARRANTY OF MERCHANTABILITY OR FITNESS\n",
      "FOR ANY PARTICULAR PURPOSE OR THAT THE USE OF MATPLOTLIB\n",
      "WILL NOT INFRINGE ANY THIRD PARTY RIGHTS.\n",
      "\n",
      "5. MDT SHALL NOT BE LIABLE TO LICENSEE OR ANY OTHER USERS OF MATPLOTLIB\n",
      " FOR ANY INCIDENTAL, SPECIAL, OR CONSEQUENTIAL DAMAGES OR\n",
      "LOSS AS A RESULT OF MODIFYING, DISTRIBUTING, OR OTHERWISE USING\n",
      "MATPLOTLIB , OR ANY DERIVATIVE THEREOF, EVEN IF ADVISED OF\n",
      "THE POSSIBILITY THEREOF.\n",
      "\n",
      "6. This License Agreement will automatically terminate upon a material\n",
      "breach of its terms and conditions.\n",
      "\n",
      "7. Nothing in this License Agreement shall be deemed to create any\n",
      "relationship of agency, partnership, or joint venture between MDT and\n",
      "Licensee.  This License Agreement does not grant permission to use MDT\n",
      "trademarks or trade name in a trademark sense to endorse or promote\n",
      "products or services of Licensee, or any third party.\n",
      "\n",
      "8. By copying, installing or otherwise using matplotlib ,\n",
      "Licensee agrees to be bound by the terms and conditions of this License\n",
      "Agreement.\n",
      "\n",
      "License agreement for matplotlib versions prior to 1.3.0\n",
      "========================================================\n",
      "\n",
      "1. This LICENSE AGREEMENT is between John D. Hunter (\"JDH\"), and the\n",
      "Individual or Organization (\"Licensee\") accessing and otherwise using\n",
      "matplotlib software in source or binary form and its associated\n",
      "documentation.\n",
      "\n",
      "2. Subject to the terms and conditions of this License Agreement, JDH\n",
      "hereby grants Licensee a nonexclusive, royalty-free, world-wide license\n",
      "to reproduce, analyze, test, perform and/or display publicly, prepare\n",
      "derivative works, distribute, and otherwise use matplotlib\n",
      "alone or in any derivative version, provided, however, that JDH's\n",
      "License Agreement and JDH's notice of copyright, i.e., \"Copyright (c)\n",
      "2002-2011 John D. Hunter; All Rights Reserved\" are retained in\n",
      "matplotlib  alone or in any derivative version prepared by\n",
      "Licensee.\n",
      "\n",
      "3. In the event Licensee prepares a derivative work that is based on or\n",
      "incorporates matplotlib  or any part thereof, and wants to\n",
      "make the derivative work available to others as provided herein, then\n",
      "Licensee hereby agrees to include in any such work a brief summary of\n",
      "the changes made to matplotlib.\n",
      "\n",
      "4. JDH is making matplotlib  available to Licensee on an \"AS\n",
      "IS\" basis.  JDH MAKES NO REPRESENTATIONS OR WARRANTIES, EXPRESS OR\n",
      "IMPLIED.  BY WAY OF EXAMPLE, BUT NOT LIMITATION, JDH MAKES NO AND\n",
      "DISCLAIMS ANY REPRESENTATION OR WARRANTY OF MERCHANTABILITY OR FITNESS\n",
      "FOR ANY PARTICULAR PURPOSE OR THAT THE USE OF MATPLOTLIB\n",
      "WILL NOT INFRINGE ANY THIRD PARTY RIGHTS.\n",
      "\n",
      "5. JDH SHALL NOT BE LIABLE TO LICENSEE OR ANY OTHER USERS OF MATPLOTLIB\n",
      " FOR ANY INCIDENTAL, SPECIAL, OR CONSEQUENTIAL DAMAGES OR\n",
      "LOSS AS A RESULT OF MODIFYING, DISTRIBUTING, OR OTHERWISE USING\n",
      "MATPLOTLIB , OR ANY DERIVATIVE THEREOF, EVEN IF ADVISED OF\n",
      "THE POSSIBILITY THEREOF.\n",
      "\n",
      "6. This License Agreement will automatically terminate upon a material\n",
      "breach of its terms and conditions.\n",
      "\n",
      "7. Nothing in this License Agreement shall be deemed to create any\n",
      "relationship of agency, partnership, or joint venture between JDH and\n",
      "Licensee.  This License Agreement does not grant permission to use JDH\n",
      "trademarks or trade name in a trademark sense to endorse or promote\n",
      "products or services of Licensee, or any third party.\n",
      "\n",
      "8. By copying, installing or otherwise using matplotlib,\n",
      "Licensee agrees to be bound by the terms and conditions of this License\n",
      "Agreement.\n",
      "Location: /opt/homebrew/Cellar/jupyterlab/4.2.5_1/libexec/lib/python3.12/site-packages\n",
      "Requires: contourpy, cycler, fonttools, kiwisolver, numpy, packaging, pillow, pyparsing, python-dateutil\n",
      "Required-by: seaborn\n",
      "Note: you may need to restart the kernel to use updated packages.\n"
     ]
    }
   ],
   "source": [
    "### CHECK OTHER DEPENDENCIES\n",
    "%pip show pylatexenc matplotlib qc_grader\n",
    "\n",
    "#qc-grader should be 0.18.8 (or higher)"
   ]
  },
  {
   "cell_type": "code",
   "execution_count": 1,
   "id": "00d682e6-411e-47aa-a0cb-d3c1602ce7d4",
   "metadata": {},
   "outputs": [
    {
     "ename": "SyntaxError",
     "evalue": "invalid syntax (314814910.py, line 3)",
     "output_type": "error",
     "traceback": [
      "\u001b[0;36m  Cell \u001b[0;32mIn[1], line 3\u001b[0;36m\u001b[0m\n\u001b[0;31m    pip install qiskit_aer\u001b[0m\n\u001b[0m        ^\u001b[0m\n\u001b[0;31mSyntaxError\u001b[0m\u001b[0;31m:\u001b[0m invalid syntax\n"
     ]
    }
   ],
   "source": [
    "### Install the other required packages as well\n",
    "\n",
    "pip install qiskit_aer"
   ]
  },
  {
   "cell_type": "code",
   "execution_count": 3,
   "id": "2206b9ba-d966-470e-b40f-7a20403d5631",
   "metadata": {},
   "outputs": [
    {
     "name": "stdout",
     "output_type": "stream",
     "text": [
      "Requirement already satisfied: qiskit_ibm_runtime in /opt/homebrew/Cellar/jupyterlab/4.2.5_1/libexec/lib/python3.12/site-packages (0.30.0)\n",
      "Requirement already satisfied: requests>=2.19 in /opt/homebrew/Cellar/jupyterlab/4.2.5_1/libexec/lib/python3.12/site-packages (from qiskit_ibm_runtime) (2.32.3)\n",
      "Requirement already satisfied: requests-ntlm>=1.1.0 in /opt/homebrew/Cellar/jupyterlab/4.2.5_1/libexec/lib/python3.12/site-packages (from qiskit_ibm_runtime) (1.3.0)\n",
      "Requirement already satisfied: numpy>=1.13 in /opt/homebrew/Cellar/jupyterlab/4.2.5_1/libexec/lib/python3.12/site-packages (from qiskit_ibm_runtime) (1.26.4)\n",
      "Requirement already satisfied: urllib3>=1.21.1 in /opt/homebrew/Cellar/jupyterlab/4.2.5_1/libexec/lib/python3.12/site-packages (from qiskit_ibm_runtime) (2.2.2)\n",
      "Requirement already satisfied: python-dateutil>=2.8.0 in /opt/homebrew/Cellar/jupyterlab/4.2.5_1/libexec/lib/python3.12/site-packages (from qiskit_ibm_runtime) (2.9.0.post0)\n",
      "Requirement already satisfied: websocket-client>=1.5.1 in /opt/homebrew/Cellar/jupyterlab/4.2.5_1/libexec/lib/python3.12/site-packages (from qiskit_ibm_runtime) (1.8.0)\n",
      "Requirement already satisfied: ibm-platform-services>=0.22.6 in /opt/homebrew/Cellar/jupyterlab/4.2.5_1/libexec/lib/python3.12/site-packages (from qiskit_ibm_runtime) (0.57.1)\n",
      "Requirement already satisfied: pydantic>=2.5.0 in /opt/homebrew/Cellar/jupyterlab/4.2.5_1/libexec/lib/python3.12/site-packages (from qiskit_ibm_runtime) (2.9.1)\n",
      "Requirement already satisfied: qiskit>=1.1.0 in /opt/homebrew/Cellar/jupyterlab/4.2.5_1/libexec/lib/python3.12/site-packages (from qiskit_ibm_runtime) (1.2.2)\n",
      "Requirement already satisfied: ibm-cloud-sdk-core<4.0.0,>=3.21.0 in /opt/homebrew/Cellar/jupyterlab/4.2.5_1/libexec/lib/python3.12/site-packages (from ibm-platform-services>=0.22.6->qiskit_ibm_runtime) (3.21.0)\n",
      "Requirement already satisfied: annotated-types>=0.6.0 in /opt/homebrew/Cellar/jupyterlab/4.2.5_1/libexec/lib/python3.12/site-packages (from pydantic>=2.5.0->qiskit_ibm_runtime) (0.7.0)\n",
      "Requirement already satisfied: pydantic-core==2.23.3 in /opt/homebrew/Cellar/jupyterlab/4.2.5_1/libexec/lib/python3.12/site-packages (from pydantic>=2.5.0->qiskit_ibm_runtime) (2.23.3)\n",
      "Requirement already satisfied: typing-extensions>=4.6.1 in /opt/homebrew/Cellar/jupyterlab/4.2.5_1/libexec/lib/python3.12/site-packages (from pydantic>=2.5.0->qiskit_ibm_runtime) (4.12.2)\n",
      "Requirement already satisfied: six>=1.5 in /opt/homebrew/Cellar/jupyterlab/4.2.5_1/libexec/lib/python3.12/site-packages (from python-dateutil>=2.8.0->qiskit_ibm_runtime) (1.16.0)\n",
      "Requirement already satisfied: rustworkx>=0.15.0 in /opt/homebrew/Cellar/jupyterlab/4.2.5_1/libexec/lib/python3.12/site-packages (from qiskit>=1.1.0->qiskit_ibm_runtime) (0.15.1)\n",
      "Requirement already satisfied: scipy>=1.5 in /opt/homebrew/Cellar/jupyterlab/4.2.5_1/libexec/lib/python3.12/site-packages (from qiskit>=1.1.0->qiskit_ibm_runtime) (1.14.1)\n",
      "Requirement already satisfied: sympy>=1.3 in /opt/homebrew/Cellar/jupyterlab/4.2.5_1/libexec/lib/python3.12/site-packages (from qiskit>=1.1.0->qiskit_ibm_runtime) (1.13.3)\n",
      "Requirement already satisfied: dill>=0.3 in /opt/homebrew/Cellar/jupyterlab/4.2.5_1/libexec/lib/python3.12/site-packages (from qiskit>=1.1.0->qiskit_ibm_runtime) (0.3.8)\n",
      "Requirement already satisfied: stevedore>=3.0.0 in /opt/homebrew/Cellar/jupyterlab/4.2.5_1/libexec/lib/python3.12/site-packages (from qiskit>=1.1.0->qiskit_ibm_runtime) (5.3.0)\n",
      "Requirement already satisfied: symengine>=0.11 in /opt/homebrew/Cellar/jupyterlab/4.2.5_1/libexec/lib/python3.12/site-packages (from qiskit>=1.1.0->qiskit_ibm_runtime) (0.11.0)\n",
      "Requirement already satisfied: charset-normalizer<4,>=2 in /opt/homebrew/Cellar/jupyterlab/4.2.5_1/libexec/lib/python3.12/site-packages (from requests>=2.19->qiskit_ibm_runtime) (3.3.2)\n",
      "Requirement already satisfied: idna<4,>=2.5 in /opt/homebrew/Cellar/jupyterlab/4.2.5_1/libexec/lib/python3.12/site-packages (from requests>=2.19->qiskit_ibm_runtime) (3.8)\n",
      "Requirement already satisfied: certifi>=2017.4.17 in /opt/homebrew/opt/certifi/lib/python3.12/site-packages (from requests>=2.19->qiskit_ibm_runtime) (2024.8.30)\n",
      "Requirement already satisfied: cryptography>=1.3 in /opt/homebrew/Cellar/jupyterlab/4.2.5_1/libexec/lib/python3.12/site-packages (from requests-ntlm>=1.1.0->qiskit_ibm_runtime) (43.0.1)\n",
      "Requirement already satisfied: pyspnego>=0.4.0 in /opt/homebrew/Cellar/jupyterlab/4.2.5_1/libexec/lib/python3.12/site-packages (from requests-ntlm>=1.1.0->qiskit_ibm_runtime) (0.11.1)\n",
      "Requirement already satisfied: cffi>=1.12 in /opt/homebrew/Cellar/jupyterlab/4.2.5_1/libexec/lib/python3.12/site-packages (from cryptography>=1.3->requests-ntlm>=1.1.0->qiskit_ibm_runtime) (1.17.0)\n",
      "Requirement already satisfied: PyJWT<3.0.0,>=2.8.0 in /opt/homebrew/Cellar/jupyterlab/4.2.5_1/libexec/lib/python3.12/site-packages (from ibm-cloud-sdk-core<4.0.0,>=3.21.0->ibm-platform-services>=0.22.6->qiskit_ibm_runtime) (2.9.0)\n",
      "Requirement already satisfied: pbr>=2.0.0 in /opt/homebrew/Cellar/jupyterlab/4.2.5_1/libexec/lib/python3.12/site-packages (from stevedore>=3.0.0->qiskit>=1.1.0->qiskit_ibm_runtime) (6.1.0)\n",
      "Requirement already satisfied: mpmath<1.4,>=1.1.0 in /opt/homebrew/Cellar/jupyterlab/4.2.5_1/libexec/lib/python3.12/site-packages (from sympy>=1.3->qiskit>=1.1.0->qiskit_ibm_runtime) (1.3.0)\n",
      "Requirement already satisfied: pycparser in /opt/homebrew/Cellar/jupyterlab/4.2.5_1/libexec/lib/python3.12/site-packages (from cffi>=1.12->cryptography>=1.3->requests-ntlm>=1.1.0->qiskit_ibm_runtime) (2.22)\n",
      "Note: you may need to restart the kernel to use updated packages.\n"
     ]
    }
   ],
   "source": [
    "pip install qiskit_ibm_runtime"
   ]
  },
  {
   "cell_type": "code",
   "execution_count": 4,
   "id": "2a4fd254-2b6f-41a3-91c3-b756c405538e",
   "metadata": {},
   "outputs": [
    {
     "name": "stdout",
     "output_type": "stream",
     "text": [
      "Requirement already satisfied: matplotlib in /opt/homebrew/Cellar/jupyterlab/4.2.5_1/libexec/lib/python3.12/site-packages (3.9.2)\n",
      "Requirement already satisfied: contourpy>=1.0.1 in /opt/homebrew/Cellar/jupyterlab/4.2.5_1/libexec/lib/python3.12/site-packages (from matplotlib) (1.3.0)\n",
      "Requirement already satisfied: cycler>=0.10 in /opt/homebrew/Cellar/jupyterlab/4.2.5_1/libexec/lib/python3.12/site-packages (from matplotlib) (0.12.1)\n",
      "Requirement already satisfied: fonttools>=4.22.0 in /opt/homebrew/Cellar/jupyterlab/4.2.5_1/libexec/lib/python3.12/site-packages (from matplotlib) (4.54.1)\n",
      "Requirement already satisfied: kiwisolver>=1.3.1 in /opt/homebrew/Cellar/jupyterlab/4.2.5_1/libexec/lib/python3.12/site-packages (from matplotlib) (1.4.7)\n",
      "Requirement already satisfied: numpy>=1.23 in /opt/homebrew/Cellar/jupyterlab/4.2.5_1/libexec/lib/python3.12/site-packages (from matplotlib) (1.26.4)\n",
      "Requirement already satisfied: packaging>=20.0 in /opt/homebrew/Cellar/jupyterlab/4.2.5_1/libexec/lib/python3.12/site-packages (from matplotlib) (24.1)\n",
      "Requirement already satisfied: pillow>=8 in /opt/homebrew/Cellar/jupyterlab/4.2.5_1/libexec/lib/python3.12/site-packages (from matplotlib) (10.4.0)\n",
      "Requirement already satisfied: pyparsing>=2.3.1 in /opt/homebrew/Cellar/jupyterlab/4.2.5_1/libexec/lib/python3.12/site-packages (from matplotlib) (3.1.4)\n",
      "Requirement already satisfied: python-dateutil>=2.7 in /opt/homebrew/Cellar/jupyterlab/4.2.5_1/libexec/lib/python3.12/site-packages (from matplotlib) (2.9.0.post0)\n",
      "Requirement already satisfied: six>=1.5 in /opt/homebrew/Cellar/jupyterlab/4.2.5_1/libexec/lib/python3.12/site-packages (from python-dateutil>=2.7->matplotlib) (1.16.0)\n",
      "Note: you may need to restart the kernel to use updated packages.\n"
     ]
    }
   ],
   "source": [
    "pip install matplotlib"
   ]
  },
  {
   "cell_type": "code",
   "execution_count": 5,
   "id": "da0cca57-c995-4eb7-8556-a261966cf2f4",
   "metadata": {},
   "outputs": [
    {
     "name": "stdout",
     "output_type": "stream",
     "text": [
      "Requirement already satisfied: pylatexenc in /opt/homebrew/Cellar/jupyterlab/4.2.5_1/libexec/lib/python3.12/site-packages (2.10)\n",
      "Note: you may need to restart the kernel to use updated packages.\n"
     ]
    }
   ],
   "source": [
    "pip install pylatexenc"
   ]
  },
  {
   "cell_type": "code",
   "execution_count": 6,
   "id": "a1507162-aaeb-4116-ab4a-2c25fa3b342f",
   "metadata": {},
   "outputs": [
    {
     "name": "stdout",
     "output_type": "stream",
     "text": [
      "Collecting qiskit-transpiler-service\n",
      "  Downloading qiskit_transpiler_service-0.4.10-py3-none-any.whl.metadata (11 kB)\n",
      "Requirement already satisfied: qiskit~=1.0 in /opt/homebrew/Cellar/jupyterlab/4.2.5_1/libexec/lib/python3.12/site-packages (from qiskit-transpiler-service) (1.2.2)\n",
      "Collecting backoff~=2.0 (from qiskit-transpiler-service)\n",
      "  Downloading backoff-2.2.1-py3-none-any.whl.metadata (14 kB)\n",
      "Collecting qiskit-qasm3-import~=0.4 (from qiskit-transpiler-service)\n",
      "  Downloading qiskit_qasm3_import-0.5.0-py3-none-any.whl.metadata (7.2 kB)\n",
      "Requirement already satisfied: requests~=2.0 in /opt/homebrew/Cellar/jupyterlab/4.2.5_1/libexec/lib/python3.12/site-packages (from qiskit-transpiler-service) (2.32.3)\n",
      "Requirement already satisfied: rustworkx>=0.15.0 in /opt/homebrew/Cellar/jupyterlab/4.2.5_1/libexec/lib/python3.12/site-packages (from qiskit~=1.0->qiskit-transpiler-service) (0.15.1)\n",
      "Requirement already satisfied: numpy<3,>=1.17 in /opt/homebrew/Cellar/jupyterlab/4.2.5_1/libexec/lib/python3.12/site-packages (from qiskit~=1.0->qiskit-transpiler-service) (1.26.4)\n",
      "Requirement already satisfied: scipy>=1.5 in /opt/homebrew/Cellar/jupyterlab/4.2.5_1/libexec/lib/python3.12/site-packages (from qiskit~=1.0->qiskit-transpiler-service) (1.14.1)\n",
      "Requirement already satisfied: sympy>=1.3 in /opt/homebrew/Cellar/jupyterlab/4.2.5_1/libexec/lib/python3.12/site-packages (from qiskit~=1.0->qiskit-transpiler-service) (1.13.3)\n",
      "Requirement already satisfied: dill>=0.3 in /opt/homebrew/Cellar/jupyterlab/4.2.5_1/libexec/lib/python3.12/site-packages (from qiskit~=1.0->qiskit-transpiler-service) (0.3.8)\n",
      "Requirement already satisfied: python-dateutil>=2.8.0 in /opt/homebrew/Cellar/jupyterlab/4.2.5_1/libexec/lib/python3.12/site-packages (from qiskit~=1.0->qiskit-transpiler-service) (2.9.0.post0)\n",
      "Requirement already satisfied: stevedore>=3.0.0 in /opt/homebrew/Cellar/jupyterlab/4.2.5_1/libexec/lib/python3.12/site-packages (from qiskit~=1.0->qiskit-transpiler-service) (5.3.0)\n",
      "Requirement already satisfied: typing-extensions in /opt/homebrew/Cellar/jupyterlab/4.2.5_1/libexec/lib/python3.12/site-packages (from qiskit~=1.0->qiskit-transpiler-service) (4.12.2)\n",
      "Requirement already satisfied: symengine>=0.11 in /opt/homebrew/Cellar/jupyterlab/4.2.5_1/libexec/lib/python3.12/site-packages (from qiskit~=1.0->qiskit-transpiler-service) (0.11.0)\n",
      "Collecting openqasm3<0.6,>=0.4 (from openqasm3[parser]<0.6,>=0.4->qiskit-qasm3-import~=0.4->qiskit-transpiler-service)\n",
      "  Downloading openqasm3-0.5.0-py3-none-any.whl.metadata (6.0 kB)\n",
      "Requirement already satisfied: charset-normalizer<4,>=2 in /opt/homebrew/Cellar/jupyterlab/4.2.5_1/libexec/lib/python3.12/site-packages (from requests~=2.0->qiskit-transpiler-service) (3.3.2)\n",
      "Requirement already satisfied: idna<4,>=2.5 in /opt/homebrew/Cellar/jupyterlab/4.2.5_1/libexec/lib/python3.12/site-packages (from requests~=2.0->qiskit-transpiler-service) (3.8)\n",
      "Requirement already satisfied: urllib3<3,>=1.21.1 in /opt/homebrew/Cellar/jupyterlab/4.2.5_1/libexec/lib/python3.12/site-packages (from requests~=2.0->qiskit-transpiler-service) (2.2.2)\n",
      "Requirement already satisfied: certifi>=2017.4.17 in /opt/homebrew/opt/certifi/lib/python3.12/site-packages (from requests~=2.0->qiskit-transpiler-service) (2024.8.30)\n",
      "Collecting antlr4-python3-runtime<4.14,>=4.7 (from openqasm3[parser]<0.6,>=0.4->qiskit-qasm3-import~=0.4->qiskit-transpiler-service)\n",
      "  Downloading antlr4_python3_runtime-4.13.2-py3-none-any.whl.metadata (304 bytes)\n",
      "Requirement already satisfied: six>=1.5 in /opt/homebrew/Cellar/jupyterlab/4.2.5_1/libexec/lib/python3.12/site-packages (from python-dateutil>=2.8.0->qiskit~=1.0->qiskit-transpiler-service) (1.16.0)\n",
      "Requirement already satisfied: pbr>=2.0.0 in /opt/homebrew/Cellar/jupyterlab/4.2.5_1/libexec/lib/python3.12/site-packages (from stevedore>=3.0.0->qiskit~=1.0->qiskit-transpiler-service) (6.1.0)\n",
      "Requirement already satisfied: mpmath<1.4,>=1.1.0 in /opt/homebrew/Cellar/jupyterlab/4.2.5_1/libexec/lib/python3.12/site-packages (from sympy>=1.3->qiskit~=1.0->qiskit-transpiler-service) (1.3.0)\n",
      "Downloading qiskit_transpiler_service-0.4.10-py3-none-any.whl (29 kB)\n",
      "Downloading backoff-2.2.1-py3-none-any.whl (15 kB)\n",
      "Downloading qiskit_qasm3_import-0.5.0-py3-none-any.whl (27 kB)\n",
      "Downloading openqasm3-0.5.0-py3-none-any.whl (524 kB)\n",
      "Downloading antlr4_python3_runtime-4.13.2-py3-none-any.whl (144 kB)\n",
      "Installing collected packages: openqasm3, antlr4-python3-runtime, backoff, qiskit-qasm3-import, qiskit-transpiler-service\n",
      "Successfully installed antlr4-python3-runtime-4.13.2 backoff-2.2.1 openqasm3-0.5.0 qiskit-qasm3-import-0.5.0 qiskit-transpiler-service-0.4.10\n",
      "Note: you may need to restart the kernel to use updated packages.\n"
     ]
    }
   ],
   "source": [
    "pip install qiskit-transpiler-service"
   ]
  },
  {
   "cell_type": "code",
   "execution_count": 7,
   "id": "f30afff0-6c94-4cd3-9877-2f4cc63d7b9c",
   "metadata": {},
   "outputs": [
    {
     "name": "stdout",
     "output_type": "stream",
     "text": [
      "Collecting git+https://github.com/qiskit-community/Quantum-Challenge-Grader.git\n",
      "  Cloning https://github.com/qiskit-community/Quantum-Challenge-Grader.git to /private/var/folders/9y/c_h6cd911v7d5n3j7nrd6n080000gn/T/pip-req-build-pmobzpdp\n",
      "  Running command git clone --filter=blob:none --quiet https://github.com/qiskit-community/Quantum-Challenge-Grader.git /private/var/folders/9y/c_h6cd911v7d5n3j7nrd6n080000gn/T/pip-req-build-pmobzpdp\n",
      "  Resolved https://github.com/qiskit-community/Quantum-Challenge-Grader.git to commit e55a9f1d3cfc2a6df390eccf3e1006c385583289\n",
      "  Preparing metadata (setup.py) ... \u001b[?25ldone\n",
      "\u001b[?25hCollecting typeguard (from qc_grader==0.20.1)\n",
      "  Downloading typeguard-4.3.0-py3-none-any.whl.metadata (3.7 kB)\n",
      "Collecting jsonpickle==3.0.3 (from qc_grader==0.20.1)\n",
      "  Downloading jsonpickle-3.0.3-py3-none-any.whl.metadata (7.3 kB)\n",
      "Collecting ipycytoscape (from qc_grader==0.20.1)\n",
      "  Downloading ipycytoscape-1.3.3-py2.py3-none-any.whl.metadata (7.5 kB)\n",
      "Collecting plotly (from qc_grader==0.20.1)\n",
      "  Downloading plotly-5.24.1-py3-none-any.whl.metadata (7.3 kB)\n",
      "Collecting networkx==3.2.1 (from qc_grader==0.20.1)\n",
      "  Downloading networkx-3.2.1-py3-none-any.whl.metadata (5.2 kB)\n",
      "Collecting graphviz (from qc_grader==0.20.1)\n",
      "  Downloading graphviz-0.20.3-py3-none-any.whl.metadata (12 kB)\n",
      "Collecting ipywidgets>=7.6.0 (from ipycytoscape->qc_grader==0.20.1)\n",
      "  Downloading ipywidgets-8.1.5-py3-none-any.whl.metadata (2.3 kB)\n",
      "Collecting spectate>=1.0.0 (from ipycytoscape->qc_grader==0.20.1)\n",
      "  Downloading spectate-1.0.1-py2.py3-none-any.whl.metadata (2.2 kB)\n",
      "Collecting tenacity>=6.2.0 (from plotly->qc_grader==0.20.1)\n",
      "  Downloading tenacity-9.0.0-py3-none-any.whl.metadata (1.2 kB)\n",
      "Requirement already satisfied: packaging in /opt/homebrew/Cellar/jupyterlab/4.2.5_1/libexec/lib/python3.12/site-packages (from plotly->qc_grader==0.20.1) (24.1)\n",
      "Requirement already satisfied: typing-extensions>=4.10.0 in /opt/homebrew/Cellar/jupyterlab/4.2.5_1/libexec/lib/python3.12/site-packages (from typeguard->qc_grader==0.20.1) (4.12.2)\n",
      "Requirement already satisfied: comm>=0.1.3 in /opt/homebrew/Cellar/jupyterlab/4.2.5_1/libexec/lib/python3.12/site-packages (from ipywidgets>=7.6.0->ipycytoscape->qc_grader==0.20.1) (0.2.2)\n",
      "Requirement already satisfied: ipython>=6.1.0 in /opt/homebrew/Cellar/jupyterlab/4.2.5_1/libexec/lib/python3.12/site-packages (from ipywidgets>=7.6.0->ipycytoscape->qc_grader==0.20.1) (8.26.0)\n",
      "Requirement already satisfied: traitlets>=4.3.1 in /opt/homebrew/Cellar/jupyterlab/4.2.5_1/libexec/lib/python3.12/site-packages (from ipywidgets>=7.6.0->ipycytoscape->qc_grader==0.20.1) (5.14.3)\n",
      "Collecting widgetsnbextension~=4.0.12 (from ipywidgets>=7.6.0->ipycytoscape->qc_grader==0.20.1)\n",
      "  Downloading widgetsnbextension-4.0.13-py3-none-any.whl.metadata (1.6 kB)\n",
      "Collecting jupyterlab-widgets~=3.0.12 (from ipywidgets>=7.6.0->ipycytoscape->qc_grader==0.20.1)\n",
      "  Downloading jupyterlab_widgets-3.0.13-py3-none-any.whl.metadata (4.1 kB)\n",
      "Requirement already satisfied: decorator in /opt/homebrew/Cellar/jupyterlab/4.2.5_1/libexec/lib/python3.12/site-packages (from ipython>=6.1.0->ipywidgets>=7.6.0->ipycytoscape->qc_grader==0.20.1) (5.1.1)\n",
      "Requirement already satisfied: jedi>=0.16 in /opt/homebrew/Cellar/jupyterlab/4.2.5_1/libexec/lib/python3.12/site-packages (from ipython>=6.1.0->ipywidgets>=7.6.0->ipycytoscape->qc_grader==0.20.1) (0.19.1)\n",
      "Requirement already satisfied: matplotlib-inline in /opt/homebrew/Cellar/jupyterlab/4.2.5_1/libexec/lib/python3.12/site-packages (from ipython>=6.1.0->ipywidgets>=7.6.0->ipycytoscape->qc_grader==0.20.1) (0.1.7)\n",
      "Requirement already satisfied: prompt-toolkit<3.1.0,>=3.0.41 in /opt/homebrew/Cellar/jupyterlab/4.2.5_1/libexec/lib/python3.12/site-packages (from ipython>=6.1.0->ipywidgets>=7.6.0->ipycytoscape->qc_grader==0.20.1) (3.0.47)\n",
      "Requirement already satisfied: pygments>=2.4.0 in /opt/homebrew/Cellar/jupyterlab/4.2.5_1/libexec/lib/python3.12/site-packages (from ipython>=6.1.0->ipywidgets>=7.6.0->ipycytoscape->qc_grader==0.20.1) (2.18.0)\n",
      "Requirement already satisfied: stack-data in /opt/homebrew/Cellar/jupyterlab/4.2.5_1/libexec/lib/python3.12/site-packages (from ipython>=6.1.0->ipywidgets>=7.6.0->ipycytoscape->qc_grader==0.20.1) (0.6.3)\n",
      "Requirement already satisfied: pexpect>4.3 in /opt/homebrew/Cellar/jupyterlab/4.2.5_1/libexec/lib/python3.12/site-packages (from ipython>=6.1.0->ipywidgets>=7.6.0->ipycytoscape->qc_grader==0.20.1) (4.9.0)\n",
      "Requirement already satisfied: parso<0.9.0,>=0.8.3 in /opt/homebrew/Cellar/jupyterlab/4.2.5_1/libexec/lib/python3.12/site-packages (from jedi>=0.16->ipython>=6.1.0->ipywidgets>=7.6.0->ipycytoscape->qc_grader==0.20.1) (0.8.4)\n",
      "Requirement already satisfied: ptyprocess>=0.5 in /opt/homebrew/Cellar/jupyterlab/4.2.5_1/libexec/lib/python3.12/site-packages (from pexpect>4.3->ipython>=6.1.0->ipywidgets>=7.6.0->ipycytoscape->qc_grader==0.20.1) (0.7.0)\n",
      "Requirement already satisfied: wcwidth in /opt/homebrew/Cellar/jupyterlab/4.2.5_1/libexec/lib/python3.12/site-packages (from prompt-toolkit<3.1.0,>=3.0.41->ipython>=6.1.0->ipywidgets>=7.6.0->ipycytoscape->qc_grader==0.20.1) (0.2.13)\n",
      "Requirement already satisfied: executing>=1.2.0 in /opt/homebrew/Cellar/jupyterlab/4.2.5_1/libexec/lib/python3.12/site-packages (from stack-data->ipython>=6.1.0->ipywidgets>=7.6.0->ipycytoscape->qc_grader==0.20.1) (2.0.1)\n",
      "Requirement already satisfied: asttokens>=2.1.0 in /opt/homebrew/Cellar/jupyterlab/4.2.5_1/libexec/lib/python3.12/site-packages (from stack-data->ipython>=6.1.0->ipywidgets>=7.6.0->ipycytoscape->qc_grader==0.20.1) (2.4.1)\n",
      "Requirement already satisfied: pure-eval in /opt/homebrew/Cellar/jupyterlab/4.2.5_1/libexec/lib/python3.12/site-packages (from stack-data->ipython>=6.1.0->ipywidgets>=7.6.0->ipycytoscape->qc_grader==0.20.1) (0.2.3)\n",
      "Requirement already satisfied: six>=1.12.0 in /opt/homebrew/Cellar/jupyterlab/4.2.5_1/libexec/lib/python3.12/site-packages (from asttokens>=2.1.0->stack-data->ipython>=6.1.0->ipywidgets>=7.6.0->ipycytoscape->qc_grader==0.20.1) (1.16.0)\n",
      "Downloading jsonpickle-3.0.3-py3-none-any.whl (40 kB)\n",
      "Downloading networkx-3.2.1-py3-none-any.whl (1.6 MB)\n",
      "\u001b[2K   \u001b[90m━━━━━━━━━━━━━━━━━━━━━━━━━━━━━━━━━━━━━━━━\u001b[0m \u001b[32m1.6/1.6 MB\u001b[0m \u001b[31m2.1 MB/s\u001b[0m eta \u001b[36m0:00:00\u001b[0ma \u001b[36m0:00:01\u001b[0m\n",
      "\u001b[?25hDownloading graphviz-0.20.3-py3-none-any.whl (47 kB)\n",
      "Downloading ipycytoscape-1.3.3-py2.py3-none-any.whl (3.6 MB)\n",
      "\u001b[2K   \u001b[90m━━━━━━━━━━━━━━━━━━━━━━━━━━━━━━━━━━━━━━━━\u001b[0m \u001b[32m3.6/3.6 MB\u001b[0m \u001b[31m3.7 MB/s\u001b[0m eta \u001b[36m0:00:00\u001b[0ma \u001b[36m0:00:01\u001b[0m\n",
      "\u001b[?25hDownloading plotly-5.24.1-py3-none-any.whl (19.1 MB)\n",
      "\u001b[2K   \u001b[90m━━━━━━━━━━━━━━━━━━━━━━━━━━━━━━━━━━━━━━━━\u001b[0m \u001b[32m19.1/19.1 MB\u001b[0m \u001b[31m1.4 MB/s\u001b[0m eta \u001b[36m0:00:00\u001b[0m00:01\u001b[0m00:01\u001b[0m\n",
      "\u001b[?25hDownloading typeguard-4.3.0-py3-none-any.whl (35 kB)\n",
      "Downloading ipywidgets-8.1.5-py3-none-any.whl (139 kB)\n",
      "Downloading spectate-1.0.1-py2.py3-none-any.whl (11 kB)\n",
      "Downloading tenacity-9.0.0-py3-none-any.whl (28 kB)\n",
      "Downloading jupyterlab_widgets-3.0.13-py3-none-any.whl (214 kB)\n",
      "Downloading widgetsnbextension-4.0.13-py3-none-any.whl (2.3 MB)\n",
      "\u001b[2K   \u001b[90m━━━━━━━━━━━━━━━━━━━━━━━━━━━━━━━━━━━━━━━━\u001b[0m \u001b[32m2.3/2.3 MB\u001b[0m \u001b[31m531.2 kB/s\u001b[0m eta \u001b[36m0:00:00\u001b[0ma \u001b[36m0:00:01\u001b[0m\n",
      "\u001b[?25hBuilding wheels for collected packages: qc_grader\n",
      "  Building wheel for qc_grader (setup.py) ... \u001b[?25ldone\n",
      "\u001b[?25h  Created wheel for qc_grader: filename=qc_grader-0.20.1-py3-none-any.whl size=44577 sha256=3c8a6e997d633800614d5327ceeba8703e3bb8bdd2634cbeb5cf2edb9e2c95df\n",
      "  Stored in directory: /private/var/folders/9y/c_h6cd911v7d5n3j7nrd6n080000gn/T/pip-ephem-wheel-cache-qwn0cw5c/wheels/50/b7/39/4a214a1b3d27e5a7b1a5b0f5131aff4ad3f7f07f5d6a1af3d5\n",
      "Successfully built qc_grader\n",
      "Installing collected packages: widgetsnbextension, typeguard, tenacity, spectate, networkx, jupyterlab-widgets, jsonpickle, graphviz, plotly, ipywidgets, ipycytoscape, qc_grader\n",
      "Successfully installed graphviz-0.20.3 ipycytoscape-1.3.3 ipywidgets-8.1.5 jsonpickle-3.0.3 jupyterlab-widgets-3.0.13 networkx-3.2.1 plotly-5.24.1 qc_grader-0.20.1 spectate-1.0.1 tenacity-9.0.0 typeguard-4.3.0 widgetsnbextension-4.0.13\n",
      "Note: you may need to restart the kernel to use updated packages.\n"
     ]
    }
   ],
   "source": [
    "pip install git+https://github.com/qiskit-community/Quantum-Challenge-Grader.git"
   ]
  },
  {
   "cell_type": "code",
   "execution_count": 8,
   "id": "7dd795d9-640f-4a75-83ce-5a9806dc119f",
   "metadata": {},
   "outputs": [],
   "source": [
    "# Restart kernel "
   ]
  },
  {
   "cell_type": "code",
   "execution_count": 1,
   "id": "bde1154f-4d03-470d-b498-d18e299ae4d7",
   "metadata": {},
   "outputs": [
    {
     "data": {
      "text/plain": [
       "'1.2.2'"
      ]
     },
     "execution_count": 1,
     "metadata": {},
     "output_type": "execute_result"
    }
   ],
   "source": [
    "import qiskit\n",
    "qiskit.__version__"
   ]
  },
  {
   "cell_type": "code",
   "execution_count": 2,
   "id": "4e85ebfb-0f78-48f0-8154-ba9dadf4db59",
   "metadata": {},
   "outputs": [
    {
     "name": "stdout",
     "output_type": "stream",
     "text": [
      "Name: pylatexenc\n",
      "Version: 2.10\n",
      "Summary: Simple LaTeX parser providing latex-to-unicode and unicode-to-latex conversion\n",
      "Home-page: https://github.com/phfaist/pylatexenc\n",
      "Author: Philippe Faist\n",
      "Author-email: philippe.faist@bluewin.ch\n",
      "License: MIT\n",
      "Location: /opt/homebrew/Cellar/jupyterlab/4.2.5_1/libexec/lib/python3.12/site-packages\n",
      "Requires: \n",
      "Required-by: \n",
      "---\n",
      "Name: matplotlib\n",
      "Version: 3.9.2\n",
      "Summary: Python plotting package\n",
      "Home-page: https://matplotlib.org\n",
      "Author: John D. Hunter, Michael Droettboom\n",
      "Author-email: Unknown <matplotlib-users@python.org>\n",
      "License: License agreement for matplotlib versions 1.3.0 and later\n",
      "=========================================================\n",
      "\n",
      "1. This LICENSE AGREEMENT is between the Matplotlib Development Team\n",
      "(\"MDT\"), and the Individual or Organization (\"Licensee\") accessing and\n",
      "otherwise using matplotlib software in source or binary form and its\n",
      "associated documentation.\n",
      "\n",
      "2. Subject to the terms and conditions of this License Agreement, MDT\n",
      "hereby grants Licensee a nonexclusive, royalty-free, world-wide license\n",
      "to reproduce, analyze, test, perform and/or display publicly, prepare\n",
      "derivative works, distribute, and otherwise use matplotlib\n",
      "alone or in any derivative version, provided, however, that MDT's\n",
      "License Agreement and MDT's notice of copyright, i.e., \"Copyright (c)\n",
      "2012- Matplotlib Development Team; All Rights Reserved\" are retained in\n",
      "matplotlib  alone or in any derivative version prepared by\n",
      "Licensee.\n",
      "\n",
      "3. In the event Licensee prepares a derivative work that is based on or\n",
      "incorporates matplotlib or any part thereof, and wants to\n",
      "make the derivative work available to others as provided herein, then\n",
      "Licensee hereby agrees to include in any such work a brief summary of\n",
      "the changes made to matplotlib .\n",
      "\n",
      "4. MDT is making matplotlib available to Licensee on an \"AS\n",
      "IS\" basis.  MDT MAKES NO REPRESENTATIONS OR WARRANTIES, EXPRESS OR\n",
      "IMPLIED.  BY WAY OF EXAMPLE, BUT NOT LIMITATION, MDT MAKES NO AND\n",
      "DISCLAIMS ANY REPRESENTATION OR WARRANTY OF MERCHANTABILITY OR FITNESS\n",
      "FOR ANY PARTICULAR PURPOSE OR THAT THE USE OF MATPLOTLIB\n",
      "WILL NOT INFRINGE ANY THIRD PARTY RIGHTS.\n",
      "\n",
      "5. MDT SHALL NOT BE LIABLE TO LICENSEE OR ANY OTHER USERS OF MATPLOTLIB\n",
      " FOR ANY INCIDENTAL, SPECIAL, OR CONSEQUENTIAL DAMAGES OR\n",
      "LOSS AS A RESULT OF MODIFYING, DISTRIBUTING, OR OTHERWISE USING\n",
      "MATPLOTLIB , OR ANY DERIVATIVE THEREOF, EVEN IF ADVISED OF\n",
      "THE POSSIBILITY THEREOF.\n",
      "\n",
      "6. This License Agreement will automatically terminate upon a material\n",
      "breach of its terms and conditions.\n",
      "\n",
      "7. Nothing in this License Agreement shall be deemed to create any\n",
      "relationship of agency, partnership, or joint venture between MDT and\n",
      "Licensee.  This License Agreement does not grant permission to use MDT\n",
      "trademarks or trade name in a trademark sense to endorse or promote\n",
      "products or services of Licensee, or any third party.\n",
      "\n",
      "8. By copying, installing or otherwise using matplotlib ,\n",
      "Licensee agrees to be bound by the terms and conditions of this License\n",
      "Agreement.\n",
      "\n",
      "License agreement for matplotlib versions prior to 1.3.0\n",
      "========================================================\n",
      "\n",
      "1. This LICENSE AGREEMENT is between John D. Hunter (\"JDH\"), and the\n",
      "Individual or Organization (\"Licensee\") accessing and otherwise using\n",
      "matplotlib software in source or binary form and its associated\n",
      "documentation.\n",
      "\n",
      "2. Subject to the terms and conditions of this License Agreement, JDH\n",
      "hereby grants Licensee a nonexclusive, royalty-free, world-wide license\n",
      "to reproduce, analyze, test, perform and/or display publicly, prepare\n",
      "derivative works, distribute, and otherwise use matplotlib\n",
      "alone or in any derivative version, provided, however, that JDH's\n",
      "License Agreement and JDH's notice of copyright, i.e., \"Copyright (c)\n",
      "2002-2011 John D. Hunter; All Rights Reserved\" are retained in\n",
      "matplotlib  alone or in any derivative version prepared by\n",
      "Licensee.\n",
      "\n",
      "3. In the event Licensee prepares a derivative work that is based on or\n",
      "incorporates matplotlib  or any part thereof, and wants to\n",
      "make the derivative work available to others as provided herein, then\n",
      "Licensee hereby agrees to include in any such work a brief summary of\n",
      "the changes made to matplotlib.\n",
      "\n",
      "4. JDH is making matplotlib  available to Licensee on an \"AS\n",
      "IS\" basis.  JDH MAKES NO REPRESENTATIONS OR WARRANTIES, EXPRESS OR\n",
      "IMPLIED.  BY WAY OF EXAMPLE, BUT NOT LIMITATION, JDH MAKES NO AND\n",
      "DISCLAIMS ANY REPRESENTATION OR WARRANTY OF MERCHANTABILITY OR FITNESS\n",
      "FOR ANY PARTICULAR PURPOSE OR THAT THE USE OF MATPLOTLIB\n",
      "WILL NOT INFRINGE ANY THIRD PARTY RIGHTS.\n",
      "\n",
      "5. JDH SHALL NOT BE LIABLE TO LICENSEE OR ANY OTHER USERS OF MATPLOTLIB\n",
      " FOR ANY INCIDENTAL, SPECIAL, OR CONSEQUENTIAL DAMAGES OR\n",
      "LOSS AS A RESULT OF MODIFYING, DISTRIBUTING, OR OTHERWISE USING\n",
      "MATPLOTLIB , OR ANY DERIVATIVE THEREOF, EVEN IF ADVISED OF\n",
      "THE POSSIBILITY THEREOF.\n",
      "\n",
      "6. This License Agreement will automatically terminate upon a material\n",
      "breach of its terms and conditions.\n",
      "\n",
      "7. Nothing in this License Agreement shall be deemed to create any\n",
      "relationship of agency, partnership, or joint venture between JDH and\n",
      "Licensee.  This License Agreement does not grant permission to use JDH\n",
      "trademarks or trade name in a trademark sense to endorse or promote\n",
      "products or services of Licensee, or any third party.\n",
      "\n",
      "8. By copying, installing or otherwise using matplotlib,\n",
      "Licensee agrees to be bound by the terms and conditions of this License\n",
      "Agreement.\n",
      "Location: /opt/homebrew/Cellar/jupyterlab/4.2.5_1/libexec/lib/python3.12/site-packages\n",
      "Requires: contourpy, cycler, fonttools, kiwisolver, numpy, packaging, pillow, pyparsing, python-dateutil\n",
      "Required-by: seaborn\n",
      "---\n",
      "Name: qc_grader\n",
      "Version: 0.20.1\n",
      "Summary: Grading client for the IBM Quantum Challenge\n",
      "Home-page: https://quantum.ibm.com/\n",
      "Author: IBM Quantum Community Team\n",
      "Author-email: \n",
      "License: Apache 2.0\n",
      "Location: /opt/homebrew/Cellar/jupyterlab/4.2.5_1/libexec/lib/python3.12/site-packages\n",
      "Requires: graphviz, ipycytoscape, jsonpickle, networkx, plotly, typeguard\n",
      "Required-by: \n",
      "Note: you may need to restart the kernel to use updated packages.\n"
     ]
    }
   ],
   "source": [
    "pip show pylatexenc matplotlib qc_grader"
   ]
  },
  {
   "cell_type": "code",
   "execution_count": 3,
   "id": "e957a0c3-2a45-4b28-a191-07511ce0a59d",
   "metadata": {},
   "outputs": [
    {
     "name": "stdout",
     "output_type": "stream",
     "text": [
      "env: QXToken=8ee1bbd98942eac4c2fc4ba7ba713e99f74581ebdcde4758b806681c3e6430a448b87163c5b8e10d7713e54763476bd39d711e5e44d849cc6d16f72d6bcf3189\n"
     ]
    }
   ],
   "source": [
    "set_env QXToken=8ee1bbd98942eac4c2fc4ba7ba713e99f74581ebdcde4758b806681c3e6430a448b87163c5b8e10d7713e54763476bd39d711e5e44d849cc6d16f72d6bcf3189\n"
   ]
  },
  {
   "cell_type": "code",
   "execution_count": 2,
   "id": "927da0d4-8cd0-4822-b472-5b4ac29bf5ff",
   "metadata": {},
   "outputs": [
    {
     "name": "stdout",
     "output_type": "stream",
     "text": [
      "Requirement already satisfied: qiskit-machine-learning in /opt/homebrew/Cellar/jupyterlab/4.2.5_1/libexec/lib/python3.12/site-packages (0.7.2)\n",
      "Requirement already satisfied: qiskit>=0.44 in /opt/homebrew/Cellar/jupyterlab/4.2.5_1/libexec/lib/python3.12/site-packages (from qiskit-machine-learning) (1.2.2)\n",
      "Requirement already satisfied: qiskit-algorithms>=0.2.0 in /opt/homebrew/Cellar/jupyterlab/4.2.5_1/libexec/lib/python3.12/site-packages (from qiskit-machine-learning) (0.3.0)\n",
      "Requirement already satisfied: scipy>=1.4 in /opt/homebrew/Cellar/jupyterlab/4.2.5_1/libexec/lib/python3.12/site-packages (from qiskit-machine-learning) (1.14.1)\n",
      "Requirement already satisfied: numpy>=1.17 in /opt/homebrew/Cellar/jupyterlab/4.2.5_1/libexec/lib/python3.12/site-packages (from qiskit-machine-learning) (1.26.4)\n",
      "Requirement already satisfied: psutil>=5 in /opt/homebrew/Cellar/jupyterlab/4.2.5_1/libexec/lib/python3.12/site-packages (from qiskit-machine-learning) (6.0.0)\n",
      "Requirement already satisfied: scikit-learn>=1.2.0 in /opt/homebrew/Cellar/jupyterlab/4.2.5_1/libexec/lib/python3.12/site-packages (from qiskit-machine-learning) (1.5.2)\n",
      "Requirement already satisfied: fastdtw in /opt/homebrew/Cellar/jupyterlab/4.2.5_1/libexec/lib/python3.12/site-packages (from qiskit-machine-learning) (0.3.4)\n",
      "Requirement already satisfied: setuptools>=40.1.0 in /opt/homebrew/Cellar/jupyterlab/4.2.5_1/libexec/lib/python3.12/site-packages (from qiskit-machine-learning) (74.0.0)\n",
      "Requirement already satisfied: dill>=0.3.4 in /opt/homebrew/Cellar/jupyterlab/4.2.5_1/libexec/lib/python3.12/site-packages (from qiskit-machine-learning) (0.3.8)\n",
      "Requirement already satisfied: rustworkx>=0.15.0 in /opt/homebrew/Cellar/jupyterlab/4.2.5_1/libexec/lib/python3.12/site-packages (from qiskit>=0.44->qiskit-machine-learning) (0.15.1)\n",
      "Requirement already satisfied: sympy>=1.3 in /opt/homebrew/Cellar/jupyterlab/4.2.5_1/libexec/lib/python3.12/site-packages (from qiskit>=0.44->qiskit-machine-learning) (1.13.3)\n",
      "Requirement already satisfied: python-dateutil>=2.8.0 in /opt/homebrew/Cellar/jupyterlab/4.2.5_1/libexec/lib/python3.12/site-packages (from qiskit>=0.44->qiskit-machine-learning) (2.9.0.post0)\n",
      "Requirement already satisfied: stevedore>=3.0.0 in /opt/homebrew/Cellar/jupyterlab/4.2.5_1/libexec/lib/python3.12/site-packages (from qiskit>=0.44->qiskit-machine-learning) (5.3.0)\n",
      "Requirement already satisfied: typing-extensions in /opt/homebrew/Cellar/jupyterlab/4.2.5_1/libexec/lib/python3.12/site-packages (from qiskit>=0.44->qiskit-machine-learning) (4.12.2)\n",
      "Requirement already satisfied: symengine>=0.11 in /opt/homebrew/Cellar/jupyterlab/4.2.5_1/libexec/lib/python3.12/site-packages (from qiskit>=0.44->qiskit-machine-learning) (0.11.0)\n",
      "Requirement already satisfied: joblib>=1.2.0 in /opt/homebrew/Cellar/jupyterlab/4.2.5_1/libexec/lib/python3.12/site-packages (from scikit-learn>=1.2.0->qiskit-machine-learning) (1.4.2)\n",
      "Requirement already satisfied: threadpoolctl>=3.1.0 in /opt/homebrew/Cellar/jupyterlab/4.2.5_1/libexec/lib/python3.12/site-packages (from scikit-learn>=1.2.0->qiskit-machine-learning) (3.5.0)\n",
      "Requirement already satisfied: six>=1.5 in /opt/homebrew/Cellar/jupyterlab/4.2.5_1/libexec/lib/python3.12/site-packages (from python-dateutil>=2.8.0->qiskit>=0.44->qiskit-machine-learning) (1.16.0)\n",
      "Requirement already satisfied: pbr>=2.0.0 in /opt/homebrew/Cellar/jupyterlab/4.2.5_1/libexec/lib/python3.12/site-packages (from stevedore>=3.0.0->qiskit>=0.44->qiskit-machine-learning) (6.1.0)\n",
      "Requirement already satisfied: mpmath<1.4,>=1.1.0 in /opt/homebrew/Cellar/jupyterlab/4.2.5_1/libexec/lib/python3.12/site-packages (from sympy>=1.3->qiskit>=0.44->qiskit-machine-learning) (1.3.0)\n",
      "Note: you may need to restart the kernel to use updated packages.\n"
     ]
    }
   ],
   "source": [
    "pip install qiskit-machine-learning\n"
   ]
  },
  {
   "cell_type": "code",
   "execution_count": 3,
   "id": "dd1de12a-8d5b-45b1-a113-b9352bb279b6",
   "metadata": {},
   "outputs": [
    {
     "name": "stdout",
     "output_type": "stream",
     "text": [
      "Requirement already satisfied: qiskit-machine-learning[torch] in /opt/homebrew/Cellar/jupyterlab/4.2.5_1/libexec/lib/python3.12/site-packages (0.7.2)\n",
      "Requirement already satisfied: qiskit>=0.44 in /opt/homebrew/Cellar/jupyterlab/4.2.5_1/libexec/lib/python3.12/site-packages (from qiskit-machine-learning[torch]) (1.2.2)\n",
      "Requirement already satisfied: qiskit-algorithms>=0.2.0 in /opt/homebrew/Cellar/jupyterlab/4.2.5_1/libexec/lib/python3.12/site-packages (from qiskit-machine-learning[torch]) (0.3.0)\n",
      "Requirement already satisfied: scipy>=1.4 in /opt/homebrew/Cellar/jupyterlab/4.2.5_1/libexec/lib/python3.12/site-packages (from qiskit-machine-learning[torch]) (1.14.1)\n",
      "Requirement already satisfied: numpy>=1.17 in /opt/homebrew/Cellar/jupyterlab/4.2.5_1/libexec/lib/python3.12/site-packages (from qiskit-machine-learning[torch]) (1.26.4)\n",
      "Requirement already satisfied: psutil>=5 in /opt/homebrew/Cellar/jupyterlab/4.2.5_1/libexec/lib/python3.12/site-packages (from qiskit-machine-learning[torch]) (6.0.0)\n",
      "Requirement already satisfied: scikit-learn>=1.2.0 in /opt/homebrew/Cellar/jupyterlab/4.2.5_1/libexec/lib/python3.12/site-packages (from qiskit-machine-learning[torch]) (1.5.2)\n",
      "Requirement already satisfied: fastdtw in /opt/homebrew/Cellar/jupyterlab/4.2.5_1/libexec/lib/python3.12/site-packages (from qiskit-machine-learning[torch]) (0.3.4)\n",
      "Requirement already satisfied: setuptools>=40.1.0 in /opt/homebrew/Cellar/jupyterlab/4.2.5_1/libexec/lib/python3.12/site-packages (from qiskit-machine-learning[torch]) (74.0.0)\n",
      "Requirement already satisfied: dill>=0.3.4 in /opt/homebrew/Cellar/jupyterlab/4.2.5_1/libexec/lib/python3.12/site-packages (from qiskit-machine-learning[torch]) (0.3.8)\n",
      "Collecting torch (from qiskit-machine-learning[torch])\n",
      "  Downloading torch-2.4.1-cp312-none-macosx_11_0_arm64.whl.metadata (26 kB)\n",
      "Requirement already satisfied: rustworkx>=0.15.0 in /opt/homebrew/Cellar/jupyterlab/4.2.5_1/libexec/lib/python3.12/site-packages (from qiskit>=0.44->qiskit-machine-learning[torch]) (0.15.1)\n",
      "Requirement already satisfied: sympy>=1.3 in /opt/homebrew/Cellar/jupyterlab/4.2.5_1/libexec/lib/python3.12/site-packages (from qiskit>=0.44->qiskit-machine-learning[torch]) (1.13.3)\n",
      "Requirement already satisfied: python-dateutil>=2.8.0 in /opt/homebrew/Cellar/jupyterlab/4.2.5_1/libexec/lib/python3.12/site-packages (from qiskit>=0.44->qiskit-machine-learning[torch]) (2.9.0.post0)\n",
      "Requirement already satisfied: stevedore>=3.0.0 in /opt/homebrew/Cellar/jupyterlab/4.2.5_1/libexec/lib/python3.12/site-packages (from qiskit>=0.44->qiskit-machine-learning[torch]) (5.3.0)\n",
      "Requirement already satisfied: typing-extensions in /opt/homebrew/Cellar/jupyterlab/4.2.5_1/libexec/lib/python3.12/site-packages (from qiskit>=0.44->qiskit-machine-learning[torch]) (4.12.2)\n",
      "Requirement already satisfied: symengine>=0.11 in /opt/homebrew/Cellar/jupyterlab/4.2.5_1/libexec/lib/python3.12/site-packages (from qiskit>=0.44->qiskit-machine-learning[torch]) (0.11.0)\n",
      "Requirement already satisfied: joblib>=1.2.0 in /opt/homebrew/Cellar/jupyterlab/4.2.5_1/libexec/lib/python3.12/site-packages (from scikit-learn>=1.2.0->qiskit-machine-learning[torch]) (1.4.2)\n",
      "Requirement already satisfied: threadpoolctl>=3.1.0 in /opt/homebrew/Cellar/jupyterlab/4.2.5_1/libexec/lib/python3.12/site-packages (from scikit-learn>=1.2.0->qiskit-machine-learning[torch]) (3.5.0)\n",
      "Requirement already satisfied: filelock in /Users/jk/Library/Python/3.12/lib/python/site-packages (from torch->qiskit-machine-learning[torch]) (3.15.1)\n",
      "Requirement already satisfied: networkx in /opt/homebrew/Cellar/jupyterlab/4.2.5_1/libexec/lib/python3.12/site-packages (from torch->qiskit-machine-learning[torch]) (3.2.1)\n",
      "Requirement already satisfied: jinja2 in /opt/homebrew/Cellar/jupyterlab/4.2.5_1/libexec/lib/python3.12/site-packages (from torch->qiskit-machine-learning[torch]) (3.1.4)\n",
      "Collecting fsspec (from torch->qiskit-machine-learning[torch])\n",
      "  Downloading fsspec-2024.9.0-py3-none-any.whl.metadata (11 kB)\n",
      "Requirement already satisfied: six>=1.5 in /opt/homebrew/Cellar/jupyterlab/4.2.5_1/libexec/lib/python3.12/site-packages (from python-dateutil>=2.8.0->qiskit>=0.44->qiskit-machine-learning[torch]) (1.16.0)\n",
      "Requirement already satisfied: pbr>=2.0.0 in /opt/homebrew/Cellar/jupyterlab/4.2.5_1/libexec/lib/python3.12/site-packages (from stevedore>=3.0.0->qiskit>=0.44->qiskit-machine-learning[torch]) (6.1.0)\n",
      "Requirement already satisfied: mpmath<1.4,>=1.1.0 in /opt/homebrew/Cellar/jupyterlab/4.2.5_1/libexec/lib/python3.12/site-packages (from sympy>=1.3->qiskit>=0.44->qiskit-machine-learning[torch]) (1.3.0)\n",
      "Requirement already satisfied: MarkupSafe>=2.0 in /opt/homebrew/Cellar/jupyterlab/4.2.5_1/libexec/lib/python3.12/site-packages (from jinja2->torch->qiskit-machine-learning[torch]) (2.1.5)\n",
      "Downloading torch-2.4.1-cp312-none-macosx_11_0_arm64.whl (62.1 MB)\n",
      "\u001b[2K   \u001b[90m━━━━━━━━━━━━━━━━━━━━━━━━━━━━━━━━━━━━━━━━\u001b[0m \u001b[32m62.1/62.1 MB\u001b[0m \u001b[31m2.9 MB/s\u001b[0m eta \u001b[36m0:00:00\u001b[0m00:01\u001b[0m00:01\u001b[0mm\n",
      "\u001b[?25hDownloading fsspec-2024.9.0-py3-none-any.whl (179 kB)\n",
      "Installing collected packages: fsspec, torch\n",
      "Successfully installed fsspec-2024.9.0 torch-2.4.1\n",
      "Note: you may need to restart the kernel to use updated packages.\n"
     ]
    }
   ],
   "source": [
    "pip install 'qiskit-machine-learning[torch]'"
   ]
  },
  {
   "cell_type": "code",
   "execution_count": 4,
   "id": "c7de933c-d182-4ccd-bf01-ce6dc196ffd4",
   "metadata": {},
   "outputs": [
    {
     "name": "stdout",
     "output_type": "stream",
     "text": [
      "Requirement already satisfied: qiskit-machine-learning[sparse] in /opt/homebrew/Cellar/jupyterlab/4.2.5_1/libexec/lib/python3.12/site-packages (0.7.2)\n",
      "Requirement already satisfied: qiskit>=0.44 in /opt/homebrew/Cellar/jupyterlab/4.2.5_1/libexec/lib/python3.12/site-packages (from qiskit-machine-learning[sparse]) (1.2.2)\n",
      "Requirement already satisfied: qiskit-algorithms>=0.2.0 in /opt/homebrew/Cellar/jupyterlab/4.2.5_1/libexec/lib/python3.12/site-packages (from qiskit-machine-learning[sparse]) (0.3.0)\n",
      "Requirement already satisfied: scipy>=1.4 in /opt/homebrew/Cellar/jupyterlab/4.2.5_1/libexec/lib/python3.12/site-packages (from qiskit-machine-learning[sparse]) (1.14.1)\n",
      "Requirement already satisfied: numpy>=1.17 in /opt/homebrew/Cellar/jupyterlab/4.2.5_1/libexec/lib/python3.12/site-packages (from qiskit-machine-learning[sparse]) (1.26.4)\n",
      "Requirement already satisfied: psutil>=5 in /opt/homebrew/Cellar/jupyterlab/4.2.5_1/libexec/lib/python3.12/site-packages (from qiskit-machine-learning[sparse]) (6.0.0)\n",
      "Requirement already satisfied: scikit-learn>=1.2.0 in /opt/homebrew/Cellar/jupyterlab/4.2.5_1/libexec/lib/python3.12/site-packages (from qiskit-machine-learning[sparse]) (1.5.2)\n",
      "Requirement already satisfied: fastdtw in /opt/homebrew/Cellar/jupyterlab/4.2.5_1/libexec/lib/python3.12/site-packages (from qiskit-machine-learning[sparse]) (0.3.4)\n",
      "Requirement already satisfied: setuptools>=40.1.0 in /opt/homebrew/Cellar/jupyterlab/4.2.5_1/libexec/lib/python3.12/site-packages (from qiskit-machine-learning[sparse]) (74.0.0)\n",
      "Requirement already satisfied: dill>=0.3.4 in /opt/homebrew/Cellar/jupyterlab/4.2.5_1/libexec/lib/python3.12/site-packages (from qiskit-machine-learning[sparse]) (0.3.8)\n",
      "Collecting sparse (from qiskit-machine-learning[sparse])\n",
      "  Downloading sparse-0.15.4-py2.py3-none-any.whl.metadata (4.5 kB)\n",
      "Requirement already satisfied: rustworkx>=0.15.0 in /opt/homebrew/Cellar/jupyterlab/4.2.5_1/libexec/lib/python3.12/site-packages (from qiskit>=0.44->qiskit-machine-learning[sparse]) (0.15.1)\n",
      "Requirement already satisfied: sympy>=1.3 in /opt/homebrew/Cellar/jupyterlab/4.2.5_1/libexec/lib/python3.12/site-packages (from qiskit>=0.44->qiskit-machine-learning[sparse]) (1.13.3)\n",
      "Requirement already satisfied: python-dateutil>=2.8.0 in /opt/homebrew/Cellar/jupyterlab/4.2.5_1/libexec/lib/python3.12/site-packages (from qiskit>=0.44->qiskit-machine-learning[sparse]) (2.9.0.post0)\n",
      "Requirement already satisfied: stevedore>=3.0.0 in /opt/homebrew/Cellar/jupyterlab/4.2.5_1/libexec/lib/python3.12/site-packages (from qiskit>=0.44->qiskit-machine-learning[sparse]) (5.3.0)\n",
      "Requirement already satisfied: typing-extensions in /opt/homebrew/Cellar/jupyterlab/4.2.5_1/libexec/lib/python3.12/site-packages (from qiskit>=0.44->qiskit-machine-learning[sparse]) (4.12.2)\n",
      "Requirement already satisfied: symengine>=0.11 in /opt/homebrew/Cellar/jupyterlab/4.2.5_1/libexec/lib/python3.12/site-packages (from qiskit>=0.44->qiskit-machine-learning[sparse]) (0.11.0)\n",
      "Requirement already satisfied: joblib>=1.2.0 in /opt/homebrew/Cellar/jupyterlab/4.2.5_1/libexec/lib/python3.12/site-packages (from scikit-learn>=1.2.0->qiskit-machine-learning[sparse]) (1.4.2)\n",
      "Requirement already satisfied: threadpoolctl>=3.1.0 in /opt/homebrew/Cellar/jupyterlab/4.2.5_1/libexec/lib/python3.12/site-packages (from scikit-learn>=1.2.0->qiskit-machine-learning[sparse]) (3.5.0)\n",
      "Collecting numba>=0.49 (from sparse->qiskit-machine-learning[sparse])\n",
      "  Downloading numba-0.60.0-cp312-cp312-macosx_11_0_arm64.whl.metadata (2.7 kB)\n",
      "Collecting llvmlite<0.44,>=0.43.0dev0 (from numba>=0.49->sparse->qiskit-machine-learning[sparse])\n",
      "  Downloading llvmlite-0.43.0-cp312-cp312-macosx_11_0_arm64.whl.metadata (4.8 kB)\n",
      "Requirement already satisfied: six>=1.5 in /opt/homebrew/Cellar/jupyterlab/4.2.5_1/libexec/lib/python3.12/site-packages (from python-dateutil>=2.8.0->qiskit>=0.44->qiskit-machine-learning[sparse]) (1.16.0)\n",
      "Requirement already satisfied: pbr>=2.0.0 in /opt/homebrew/Cellar/jupyterlab/4.2.5_1/libexec/lib/python3.12/site-packages (from stevedore>=3.0.0->qiskit>=0.44->qiskit-machine-learning[sparse]) (6.1.0)\n",
      "Requirement already satisfied: mpmath<1.4,>=1.1.0 in /opt/homebrew/Cellar/jupyterlab/4.2.5_1/libexec/lib/python3.12/site-packages (from sympy>=1.3->qiskit>=0.44->qiskit-machine-learning[sparse]) (1.3.0)\n",
      "Downloading sparse-0.15.4-py2.py3-none-any.whl (237 kB)\n",
      "Downloading numba-0.60.0-cp312-cp312-macosx_11_0_arm64.whl (2.7 MB)\n",
      "\u001b[2K   \u001b[90m━━━━━━━━━━━━━━━━━━━━━━━━━━━━━━━━━━━━━━━━\u001b[0m \u001b[32m2.7/2.7 MB\u001b[0m \u001b[31m460.0 kB/s\u001b[0m eta \u001b[36m0:00:00\u001b[0ma \u001b[36m0:00:01\u001b[0m\n",
      "\u001b[?25hDownloading llvmlite-0.43.0-cp312-cp312-macosx_11_0_arm64.whl (28.8 MB)\n",
      "\u001b[2K   \u001b[90m━━━━━━━━━━━━━━━━━━━━━━━━━━━━━━━━━━━━━━━━\u001b[0m \u001b[32m28.8/28.8 MB\u001b[0m \u001b[31m1.4 MB/s\u001b[0m eta \u001b[36m0:00:00\u001b[0ma \u001b[36m0:00:01\u001b[0m0m\n",
      "\u001b[?25hInstalling collected packages: llvmlite, numba, sparse\n",
      "Successfully installed llvmlite-0.43.0 numba-0.60.0 sparse-0.15.4\n",
      "Note: you may need to restart the kernel to use updated packages.\n"
     ]
    }
   ],
   "source": [
    "pip install 'qiskit-machine-learning[sparse]'"
   ]
  },
  {
   "cell_type": "code",
   "execution_count": 10,
   "id": "fc5edf65-3412-4564-b3b6-23d10b092d9f",
   "metadata": {},
   "outputs": [
    {
     "name": "stdout",
     "output_type": "stream",
     "text": [
      "Testing accuracy: 0.90\n"
     ]
    }
   ],
   "source": [
    "from qiskit_algorithms.optimizers import COBYLA\n",
    "\n",
    "from qiskit_algorithms import VQE\n",
    "\n",
    "from qiskit.circuit.library import TwoLocal, ZZFeatureMap\n",
    "from qiskit_algorithms.utils import algorithm_globals\n",
    "from qiskit.primitives import Sampler\n",
    "\n",
    "\n",
    "\n",
    "from qiskit_machine_learning.algorithms import VQC\n",
    "from qiskit_machine_learning.datasets import ad_hoc_data\n",
    "\n",
    "seed = 1376\n",
    "algorithm_globals.random_seed = seed\n",
    "\n",
    "# Use ad hoc data set for training and test data\n",
    "feature_dim = 2  # dimension of each data point\n",
    "training_size = 20\n",
    "test_size = 10\n",
    "\n",
    "# training features, training labels, test features, test labels as np.ndarray,\n",
    "# one hot encoding for labels\n",
    "training_features, training_labels, test_features, test_labels = ad_hoc_data(\n",
    "    training_size=training_size, test_size=test_size, n=feature_dim, gap=0.3\n",
    ")\n",
    "\n",
    "feature_map = ZZFeatureMap(feature_dimension=feature_dim, reps=2, entanglement=\"linear\")\n",
    "ansatz = TwoLocal(feature_map.num_qubits, [\"ry\", \"rz\"], \"cz\", reps=3)\n",
    "vqc = VQC(\n",
    "    feature_map=feature_map,\n",
    "    ansatz=ansatz,\n",
    "    optimizer=COBYLA(maxiter=100),\n",
    ")\n",
    "vqc.fit(training_features, training_labels)\n",
    "\n",
    "score = vqc.score(test_features, test_labels)\n",
    "print(f\"Testing accuracy: {score:0.2f}\")"
   ]
  },
  {
   "cell_type": "code",
   "execution_count": 11,
   "id": "fb5b71b0-8ed0-4272-90c4-2bb159b4b335",
   "metadata": {},
   "outputs": [],
   "source": [
    "from qiskit_algorithms.utils import algorithm_globals\n",
    "\n",
    "algorithm_globals.random_seed = 42\n"
   ]
  },
  {
   "cell_type": "code",
   "execution_count": 12,
   "id": "f4412570-1d53-47dc-bc00-4f330dc76b14",
   "metadata": {},
   "outputs": [
    {
     "data": {
      "image/png": "[encoded data removed]",
      "text/plain": [
       "<Figure size 352.675x117.056 with 1 Axes>"
      ]
     },
     "execution_count": 12,
     "metadata": {},
     "output_type": "execute_result"
    }
   ],
   "source": [
    "# EstimatorQNN\n",
    "\n",
    "from qiskit.circuit import Parameter\n",
    "from qiskit import QuantumCircuit\n",
    "\n",
    "params1 = [Parameter(\"input1\"), Parameter(\"weight1\")]\n",
    "qc1 = QuantumCircuit(1)\n",
    "qc1.h(0)\n",
    "qc1.ry(params1[0], 0)\n",
    "qc1.rx(params1[1], 0)\n",
    "qc1.draw(\"mpl\", style=\"clifford\")"
   ]
  },
  {
   "cell_type": "code",
   "execution_count": 13,
   "id": "83ad3c64-23a4-4276-88b7-67053383d8bb",
   "metadata": {},
   "outputs": [],
   "source": [
    "from qiskit.quantum_info import SparsePauliOp\n",
    "\n",
    "observable1 = SparsePauliOp.from_list([(\"Y\" * qc1.num_qubits, 1)])"
   ]
  },
  {
   "cell_type": "code",
   "execution_count": 14,
   "id": "33c92b21-bc20-49c6-ac89-d2449c0d7e02",
   "metadata": {},
   "outputs": [
    {
     "data": {
      "text/plain": [
       "<qiskit_machine_learning.neural_networks.estimator_qnn.EstimatorQNN at 0x16cd6c3e0>"
      ]
     },
     "execution_count": 14,
     "metadata": {},
     "output_type": "execute_result"
    }
   ],
   "source": [
    "from qiskit_machine_learning.neural_networks import EstimatorQNN\n",
    "\n",
    "estimator_qnn = EstimatorQNN(\n",
    "    circuit=qc1, observables=observable1, input_params=[params1[0]], weight_params=[params1[1]]\n",
    ")\n",
    "estimator_qnn"
   ]
  },
  {
   "cell_type": "code",
   "execution_count": 17,
   "id": "6d8ab337-6aad-4c33-bd18-8a13ef7b20af",
   "metadata": {},
   "outputs": [
    {
     "name": "stdout",
     "output_type": "stream",
     "text": [
      "input parameters: ['input[0]', 'input[1]']\n",
      "weight parameters: ['weight[0]', 'weight[1]', 'weight[2]', 'weight[3]']\n"
     ]
    },
    {
     "data": {
      "image/png": "[encoded data removed]",
      "text/plain": [
       "<Figure size 538.128x200.667 with 1 Axes>"
      ]
     },
     "execution_count": 17,
     "metadata": {},
     "output_type": "execute_result"
    }
   ],
   "source": [
    "# SamplerQNN\n",
    "\n",
    "from qiskit.circuit import ParameterVector\n",
    "\n",
    "inputs2 = ParameterVector(\"input\", 2)\n",
    "weights2 = ParameterVector(\"weight\", 4)\n",
    "print(f\"input parameters: {[str(item) for item in inputs2.params]}\")\n",
    "print(f\"weight parameters: {[str(item) for item in weights2.params]}\")\n",
    "\n",
    "qc2 = QuantumCircuit(2)\n",
    "qc2.ry(inputs2[0], 0)\n",
    "qc2.ry(inputs2[1], 1)\n",
    "qc2.cx(0, 1)\n",
    "qc2.ry(weights2[0], 0)\n",
    "qc2.ry(weights2[1], 1)\n",
    "qc2.cx(0, 1)\n",
    "qc2.ry(weights2[2], 0)\n",
    "qc2.ry(weights2[3], 1)\n",
    "\n",
    "qc2.draw(\"mpl\", style=\"clifford\")"
   ]
  },
  {
   "cell_type": "code",
   "execution_count": 18,
   "id": "aeb2df1a-1ba7-43ab-bed9-d3be2a61b946",
   "metadata": {},
   "outputs": [
    {
     "data": {
      "text/plain": [
       "<qiskit_machine_learning.neural_networks.sampler_qnn.SamplerQNN at 0x176d49a60>"
      ]
     },
     "execution_count": 18,
     "metadata": {},
     "output_type": "execute_result"
    }
   ],
   "source": [
    "from qiskit_machine_learning.neural_networks import SamplerQNN\n",
    "\n",
    "sampler_qnn = SamplerQNN(circuit=qc2, input_params=inputs2, weight_params=weights2)\n",
    "sampler_qnn"
   ]
  },
  {
   "cell_type": "code",
   "execution_count": null,
   "id": "70fda0fc-ab50-4fef-b527-2c5ca883cf6b",
   "metadata": {},
   "outputs": [],
   "source": []
  }
 ],
 "metadata": {
  "kernelspec": {
   "display_name": "Python 3 (ipykernel)",
   "language": "python",
   "name": "python3"
  },
  "language_info": {
   "codemirror_mode": {
    "name": "ipython",
    "version": 3
   },
   "file_extension": ".py",
   "mimetype": "text/x-python",
   "name": "python",
   "nbconvert_exporter": "python",
   "pygments_lexer": "ipython3",
   "version": "3.12.6"
  }
 },
 "nbformat": 4,
 "nbformat_minor": 5
}
